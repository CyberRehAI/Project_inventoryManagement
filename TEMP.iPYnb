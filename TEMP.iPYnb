{
 "cells": [
  {
   "cell_type": "code",
   "execution_count": 6,
   "metadata": {},
   "outputs": [
    {
     "name": "stdout",
     "output_type": "stream",
     "text": [
      "Enter two numbers: \n",
      "6\n"
     ]
    }
   ],
   "source": [
    "print(\"Enter two numbers: \")\n",
    "a=int(input(\"Num1: \"))\n",
    "b=int(input(\"Num2: \"))\n",
    "sum=a + b\n",
    "print(sum)"
   ]
  },
  {
   "cell_type": "code",
   "execution_count": 5,
   "metadata": {},
   "outputs": [
    {
     "name": "stdout",
     "output_type": "stream",
     "text": [
      "Enter your Favourite animal\n",
      "My favourite animal is cow too \n"
     ]
    }
   ],
   "source": [
    "print(\"Enter your Favourite animal\")\n",
    "b=input('My favourite animal is: ')\n",
    "print(f\"My favourite animal is {b} too \")"
   ]
  },
  {
   "cell_type": "code",
   "execution_count": 9,
   "metadata": {},
   "outputs": [
    {
     "name": "stdout",
     "output_type": "stream",
     "text": [
      "Enter temperature in Celsius: \n",
      "Temperature 32.0 in farhenheit is:89.6\n"
     ]
    }
   ],
   "source": [
    "print(\"Enter temperature in Celsius: \")\n",
    "Celsius=float(input(\"Temperature in Celsius is: \"))\n",
    "Farhenheit=float((Celsius*9/5)+32)\n",
    "print(f\"Temperature {Celsius} in farhenheit is:{Farhenheit}\")"
   ]
  },
  {
   "cell_type": "code",
   "execution_count": 10,
   "metadata": {},
   "outputs": [
    {
     "name": "stdout",
     "output_type": "stream",
     "text": [
      "Anton is 23 years old \n",
      " Beth is 29 years old \n",
      " Chen is 49 years old \n",
      " Drew is 72 years old and \n",
      " Ethan is 49 years old \n"
     ]
    }
   ],
   "source": [
    "A=int(input(\"Enter Antons Age: \"))\n",
    "B=int(6+A)\n",
    "C=int(20+B)\n",
    "D=int(A+C)\n",
    "E=C\n",
    "print(f\"Anton is {A} years old \\n Beth is {B} years old \\n Chen is {C} years old \\n Drew is {D} years old and \\n Ethan is {E} years old \")"
   ]
  },
  {
   "cell_type": "code",
   "execution_count": 11,
   "metadata": {},
   "outputs": [
    {
     "name": "stdout",
     "output_type": "stream",
     "text": [
      "The perimeter of triangle with sides 23,34 AND 43 is 100\n"
     ]
    }
   ],
   "source": [
    "S1=float(input(\"Enter the length of first side: \"))\n",
    "S2=float(input(\"Enter the length of 2ND side: \"))\n",
    "S3=float(input(\"Enter the length of 3RD side: \"))\n",
    "Perimeter=float(S1+S2+S3)\n",
    "print(f\"The perimeter of triangle with sides {S1},{S2} AND {S3} is {Perimeter}\")"
   ]
  },
  {
   "cell_type": "code",
   "execution_count": null,
   "metadata": {},
   "outputs": [],
   "source": [
    "NUM=int(input(\"Enter a NUMber whose square you want  to find: \"))\n",
    "square=int(NUM*NUM)\n",
    "print(f\"The square of {NUM} is {square}\")"
   ]
  },
  {
   "cell_type": "code",
   "execution_count": 14,
   "metadata": {},
   "outputs": [
    {
     "name": "stdout",
     "output_type": "stream",
     "text": [
      "Die 1: 6\n",
      "Die 2: 6\n",
      "Total: 12\n"
     ]
    }
   ],
   "source": [
    "import random\n",
    "\n",
    "Num_of_sides=int(6)\n",
    "\n",
    "die1: int = random.randint(1, Num_of_sides)\n",
    "die2: int = random.randint(1, Num_of_sides)\n",
    "\n",
    "\n",
    "print(f\"Die 1: {die1}\")\n",
    "print(f\"Die 2: {die2}\")\n",
    "print(f\"Total: {die1 + die2}\")"
   ]
  },
  {
   "cell_type": "code",
   "execution_count": 15,
   "metadata": {},
   "outputs": [
    {
     "name": "stdout",
     "output_type": "stream",
     "text": [
      "Energy in joules for mass 2.0 is 1.8e+17\n"
     ]
    }
   ],
   "source": [
    "Mass=float(input(\"Enter the Mass in Kilograms: \"))\n",
    "c=int(300000000)\n",
    "Energy=float(Mass*(c**2))\n",
    "\n",
    "print(f\"Energy in joules for mass {Mass} is {Energy}\")"
   ]
  },
  {
   "cell_type": "code",
   "execution_count": 17,
   "metadata": {},
   "outputs": [
    {
     "name": "stdout",
     "output_type": "stream",
     "text": [
      "The length 45.0 feet in inches is 540.0\n"
     ]
    }
   ],
   "source": [
    "Feet=float(input(\"Enter the length in feet: \"))\n",
    "Inches=float(Feet * 12)\n",
    "\n",
    "print(f\"The length {Feet} feet in inches is {Inches}\")"
   ]
  },
  {
   "cell_type": "code",
   "execution_count": 18,
   "metadata": {},
   "outputs": [
    {
     "name": "stdout",
     "output_type": "stream",
     "text": [
      "The hypotenuse of a right triangle with Base 3.0 and Perpendicular 4.0 is 5.0\n"
     ]
    }
   ],
   "source": [
    "import math \n",
    "\n",
    "Base=float(input(\"Enter the Base of Right triangle: \"))\n",
    "Perp=float(input(\"Enter the Perpendicular side of Right triangle: \"))\n",
    "Hyp=float=(Base**2 + Perp**2)\n",
    "Hyp=math.sqrt(Hyp)\n",
    "\n",
    "print(f\"The hypotenuse of a right triangle with Base {Base} and Perpendicular {Perp} is {Hyp}\")"
   ]
  },
  {
   "cell_type": "code",
   "execution_count": 20,
   "metadata": {},
   "outputs": [
    {
     "name": "stdout",
     "output_type": "stream",
     "text": [
      "The result of 45 divided by 9 is 5 and remainder is 0\n"
     ]
    }
   ],
   "source": [
    "a=int(input(\"Enter first number: \"))\n",
    "b=int(input(\"Enter second number: \"))\n",
    "result=int(a/b)\n",
    "remainder=int(a%b)\n",
    "print(f\"The result of {a} divided by {b} is {result} and remainder is {remainder}\")"
   ]
  },
  {
   "cell_type": "code",
   "execution_count": 21,
   "metadata": {},
   "outputs": [
    {
     "name": "stdout",
     "output_type": "stream",
     "text": [
      "Dice1: 4\n",
      "Dice2: 5\n",
      "Total: 9\n"
     ]
    }
   ],
   "source": [
    "import random\n",
    "\n",
    "\n",
    "sides=int(6)\n",
    "dice1=random.randint(1,sides)\n",
    "dice2=random.randint(1,sides)\n",
    "\n",
    "total=int(dice1+dice2)\n",
    "print(f\"Dice1: {dice1}\")\n",
    "print(f\"Dice2: {dice2}\")\n",
    "print(f\"Total: {total}\")"
   ]
  },
  {
   "cell_type": "code",
   "execution_count": 24,
   "metadata": {},
   "outputs": [
    {
     "name": "stdout",
     "output_type": "stream",
     "text": [
      "There are 31536000seconds in a Year\n"
     ]
    }
   ],
   "source": [
    "Days_In_Year= int(365)\n",
    "HoursInA_Day=int(24)\n",
    "MinsInHour=int(60)\n",
    "SecsInMin=int(60)\n",
    "\n",
    "SecsInYear=int(SecsInMin *MinsInHour*HoursInA_Day*Days_In_Year)\n",
    "print(f\"There are {SecsInYear}seconds in a Year\")"
   ]
  },
  {
   "cell_type": "code",
   "execution_count": 25,
   "metadata": {},
   "outputs": [
    {
     "name": "stdout",
     "output_type": "stream",
     "text": [
      "This is a Car it runs very fast\n"
     ]
    }
   ],
   "source": [
    "noun=(input(\"Enter a noun: \"))\n",
    "verb=(input(\"ENTER a verb: \"))\n",
    "adj=(input(\"Enter an adjective: \"))\n",
    "\n",
    "Sentence=str(\"This is a \")\n",
    "\n",
    "print(Sentence+noun+\" \"+verb+\" \"+adj)"
   ]
  },
  {
   "cell_type": "code",
   "execution_count": 26,
   "metadata": {},
   "outputs": [
    {
     "name": "stdout",
     "output_type": "stream",
     "text": [
      "222\n"
     ]
    }
   ],
   "source": [
    "total=int(0)\n",
    "list=[24,32,34,23,44,65]\n",
    "for value in list:\n",
    "    total+=value\n",
    "print(total)\n"
   ]
  },
  {
   "cell_type": "code",
   "execution_count": 27,
   "metadata": {},
   "outputs": [
    {
     "name": "stdout",
     "output_type": "stream",
     "text": [
      "[4, 6, 8]\n"
     ]
    }
   ],
   "source": [
    "my_list = [2, 3, 4]\n",
    "for i in range(len(my_list)):\n",
    "    my_list[i] *= 2\n",
    "print(my_list)"
   ]
  },
  {
   "cell_type": "code",
   "execution_count": 28,
   "metadata": {},
   "outputs": [
    {
     "name": "stdout",
     "output_type": "stream",
     "text": [
      "23\n"
     ]
    }
   ],
   "source": [
    "def get_user_list():\n",
    "    user_list = []\n",
    "    while True:\n",
    "        elem = input(\"Enter list element (or press Enter to stop): \")\n",
    "        if elem == \"\":\n",
    "            break\n",
    "        user_list.append(elem)\n",
    "    return user_list\n",
    "\n",
    "def print_first_element(user_list):\n",
    "  \n",
    "    print(user_list[0])\n",
    "\n",
    "def main():\n",
    "    user_list = get_user_list()\n",
    "    print_first_element(user_list)\n",
    "\n",
    "if __name__ == '__main__':\n",
    "    main()"
   ]
  },
  {
   "cell_type": "code",
   "execution_count": 33,
   "metadata": {},
   "outputs": [
    {
     "name": "stdout",
     "output_type": "stream",
     "text": [
      "You entered: \n",
      "['32', '45', '67', '65', '45']\n",
      "The first element is: \n",
      "32\n"
     ]
    }
   ],
   "source": [
    "def get_user_list():\n",
    "    user_list = []\n",
    "    while True:\n",
    "        elem = input(\"Enter list element (or press Enter to stop): \")\n",
    "        if elem == \"\":\n",
    "            break\n",
    "        user_list.append(elem)\n",
    "    return user_list\n",
    "\n",
    "def print_first_element(user_list):\n",
    "  \n",
    "    print(user_list[0])\n",
    "\n",
    "def main():\n",
    "    user_list = get_user_list()\n",
    "    print(\"You entered: \")\n",
    "    print(user_list)\n",
    "    print(\"The first element is: \")\n",
    "    print_first_element(user_list)\n",
    "\n",
    "if __name__ == '__main__':\n",
    "    main()"
   ]
  },
  {
   "cell_type": "code",
   "execution_count": 32,
   "metadata": {},
   "outputs": [
    {
     "name": "stdout",
     "output_type": "stream",
     "text": [
      "You entered:\n",
      "['23', '54']\n",
      "The last element is:\n",
      "54\n"
     ]
    }
   ],
   "source": [
    "def get_user_list():\n",
    "    user_list = []\n",
    "    while True:\n",
    "        elem = input(\"Enter list element (or press Enter to stop): \")\n",
    "        if elem == \"\":\n",
    "            break\n",
    "        user_list.append(elem)\n",
    "    return user_list\n",
    "\n",
    "def print_last_element(user_list):\n",
    "    \n",
    "        print(user_list[-1])\n",
    "\n",
    "def main():\n",
    "\n",
    "    user_list = get_user_list()\n",
    "    print(\"You entered:\")\n",
    "    print(user_list)\n",
    "    print(\"The last element is:\")\n",
    "    print_last_element(user_list)\n",
    "\n",
    "if __name__ == '__main__':\n",
    "    main()"
   ]
  },
  {
   "cell_type": "code",
   "execution_count": 35,
   "metadata": {},
   "outputs": [
    {
     "name": "stdout",
     "output_type": "stream",
     "text": [
      "Your entered list is:\n",
      "['33', '44', '55', '66', '77', '88', '99', '00']\n"
     ]
    }
   ],
   "source": [
    "def get_user_list():\n",
    "    user_list = []\n",
    "    while True:\n",
    "        elem = input(\"Enter list element (or press Enter to stop): \")\n",
    "        if elem == \"\":\n",
    "            break\n",
    "        user_list.append(elem)\n",
    "    return user_list\n",
    "\n",
    "def main():\n",
    "\n",
    "    user_list = get_user_list()\n",
    "    print(\"Your entered list is:\")\n",
    "    print(user_list)\n",
    "\n",
    "if __name__ == '__main__':\n",
    "    main()"
   ]
  },
  {
   "cell_type": "code",
   "execution_count": 36,
   "metadata": {},
   "outputs": [
    {
     "name": "stdout",
     "output_type": "stream",
     "text": [
      "Original List: ['23', '34', '55', '66']\n",
      "Removing: 66\n",
      "Shortened List: ['23', '34', '55']\n",
      "Length: 3\n"
     ]
    }
   ],
   "source": [
    "def shorten_list(user_list, max_length):\n",
    "    while len(user_list) > max_length:\n",
    "        print(f\"Removing: {user_list.pop()}\")\n",
    "\n",
    "def main():\n",
    "    max_length = int(input(\"Enter the max length: \"))\n",
    "    num_elements = int(input(\"Enter number of elements: \"))\n",
    "\n",
    "    user_list = [input(f\"Enter element {i+1}: \") for i in range(num_elements)]\n",
    "    \n",
    "    print(\"Original List:\", user_list)\n",
    "    shorten_list(user_list, max_length)\n",
    "    \n",
    "    print(\"Shortened List:\", user_list)\n",
    "    print(f\"Length: {len(user_list)}\")\n",
    "\n",
    "if __name__ == '__main__':\n",
    "    main()"
   ]
  },
  {
   "cell_type": "code",
   "execution_count": null,
   "metadata": {},
   "outputs": [],
   "source": [
    "i=0\n",
    "while i<=20:\n",
    "    print (2*i)\n",
    "    i+=1"
   ]
  },
  {
   "cell_type": "code",
   "execution_count": null,
   "metadata": {},
   "outputs": [],
   "source": [
    "age=int(input(\"Please enter your age: \"))\n",
    "\n",
    "if(age>=48):\n",
    "    print(\"You are eligible to vote in Mayengua, Stanlau and Peturksbouipo\")\n",
    "elif(age>=25):\n",
    "    print(\"You are eligible to vote in Stanlau and Peturksbouipo\")\n",
    "elif(age>=16):\n",
    "    print(\"You are eligible to vote in Peturksbouipo only\")\n",
    "else:\n",
    "    print(\"You are not eligible to vote\")"
   ]
  },
  {
   "cell_type": "code",
   "execution_count": 55,
   "metadata": {},
   "outputs": [
    {
     "name": "stdout",
     "output_type": "stream",
     "text": [
      "Not a leap year.\n"
     ]
    }
   ],
   "source": [
    "year = int(input('Please input a year: '))\n",
    "\n",
    "if year % 4 == 0 and (year % 100 != 0 or year % 400 == 0):\n",
    "    print(\"Leap year!\")\n",
    "else:\n",
    "    print(\"Not a leap year.\")"
   ]
  },
  {
   "cell_type": "code",
   "execution_count": null,
   "metadata": {},
   "outputs": [],
   "source": [
    "min_h = 150.0\n",
    "print(\"Enter your height in Centimeters: \")\n",
    "height = float(input())\n",
    "\n",
    "if (height >= min_h):\n",
    "    print(\"You are tall enough to ride!\")\n",
    "else:\n",
    "    print(\"You are short!\")"
   ]
  },
  {
   "cell_type": "code",
   "execution_count": 37,
   "metadata": {},
   "outputs": [
    {
     "name": "stdout",
     "output_type": "stream",
     "text": [
      "20\n",
      "43\n",
      "42\n",
      "74\n",
      "69\n",
      "5\n",
      "80\n",
      "11\n",
      "92\n"
     ]
    }
   ],
   "source": [
    "import random\n",
    "\n",
    "for i in range(1, 10):\n",
    "    print(f\"{random.randint(1, 100)}\")"
   ]
  },
  {
   "cell_type": "code",
   "execution_count": null,
   "metadata": {},
   "outputs": [],
   "source": []
  }
 ],
 "metadata": {
  "kernelspec": {
   "display_name": "Python 3",
   "language": "python",
   "name": "python3"
  },
  "language_info": {
   "codemirror_mode": {
    "name": "ipython",
    "version": 3
   },
   "file_extension": ".py",
   "mimetype": "text/x-python",
   "name": "python",
   "nbconvert_exporter": "python",
   "pygments_lexer": "ipython3",
   "version": "3.11.4"
  }
 },
 "nbformat": 4,
 "nbformat_minor": 2
}
